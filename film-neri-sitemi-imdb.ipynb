{
 "cells": [
  {
   "cell_type": "markdown",
   "id": "1d67e0a0",
   "metadata": {
    "papermill": {
     "duration": 0.010769,
     "end_time": "2022-12-20T19:51:49.678772",
     "exception": false,
     "start_time": "2022-12-20T19:51:49.668003",
     "status": "completed"
    },
    "tags": []
   },
   "source": [
    "# Giriş"
   ]
  },
  {
   "cell_type": "markdown",
   "id": "452f6e12",
   "metadata": {
    "papermill": {
     "duration": 0.009289,
     "end_time": "2022-12-20T19:51:49.697927",
     "exception": false,
     "start_time": "2022-12-20T19:51:49.688638",
     "status": "completed"
    },
    "tags": []
   },
   "source": [
    "- Öneri/ Tavsiye Sistemleri nedir? Ne işe yarar? : Uygulama/site kullanıcılarının ilgi alanlarına göre, sonraki hareketlerini tahmin ederek uygulama kullanımını sürdürmek amacıyla düzenlenen algoritma yapılarıdır. Öneri motorları, tüketicilerin seçimlerini öğrenerek modeller oluşturur ve onların ihtiyaçları ve ilgileriyle ilişkili sonuçlar üretir. Uygulanacak yöntemler basitçe, kişinin önceki hareketlerine göre ya da benzer kişilerin hareketlerinden yola çıkılarak düzenlenebilir.\n",
    "\n",
    "- Öneri Sistemlerinin Faydaları : Kişiselleştirme – Kullanıcılara özel tahminlerde bulunulması sebebiyle, kişiselleştirilmiş bir deneyim sunulur. Kişileri kullanıma yönlendirmesi sebebiyle iyi sonuçlar verir. Gelir- Doğru kullanıldığında, uygulamalar iyi bir trafik ve gelir kaynağı olabilir.Müşteri memnuniyeti – Doğru öneriler ile kişiler kullanıma yönlendirilir ve kişinin belki de hiç keşfedemeyeceği ürünler sunulmuş olur."
   ]
  },
  {
   "cell_type": "code",
   "execution_count": 1,
   "id": "d0cdd413",
   "metadata": {
    "_cell_guid": "b1076dfc-b9ad-4769-8c92-a6c4dae69d19",
    "_uuid": "8f2839f25d086af736a60e9eeb907d3b93b6e0e5",
    "execution": {
     "iopub.execute_input": "2022-12-20T19:51:49.721525Z",
     "iopub.status.busy": "2022-12-20T19:51:49.720737Z",
     "iopub.status.idle": "2022-12-20T19:51:50.862253Z",
     "shell.execute_reply": "2022-12-20T19:51:50.860912Z"
    },
    "papermill": {
     "duration": 1.157498,
     "end_time": "2022-12-20T19:51:50.864779",
     "exception": false,
     "start_time": "2022-12-20T19:51:49.707281",
     "status": "completed"
    },
    "tags": []
   },
   "outputs": [
    {
     "name": "stdout",
     "output_type": "stream",
     "text": [
      "/kaggle/input/imdb-dataset-of-top-1000-movies-and-tv-shows/imdb_top_1000.csv\n",
      "/kaggle/input/movielens-20m-dataset/rating.csv\n",
      "/kaggle/input/movielens-20m-dataset/link.csv\n",
      "/kaggle/input/movielens-20m-dataset/genome_tags.csv\n",
      "/kaggle/input/movielens-20m-dataset/genome_scores.csv\n",
      "/kaggle/input/movielens-20m-dataset/tag.csv\n",
      "/kaggle/input/movielens-20m-dataset/movie.csv\n"
     ]
    }
   ],
   "source": [
    "# This Python 3 environment comes with many helpful analytics libraries installed\n",
    "# It is defined by the kaggle/python Docker image: https://github.com/kaggle/docker-python\n",
    "# For example, here's several helpful packages to load\n",
    "\n",
    "import numpy as np # linear algebra\n",
    "import pandas as pd # data processing, CSV file I/O (e.g. pd.read_csv)\n",
    "import matplotlib.pyplot as plt\n",
    "import seaborn as sn\n",
    "\n",
    "# Input data files are available in the read-only \"../input/\" directory\n",
    "# For example, running this (by clicking run or pressing Shift+Enter) will list all files under the input directory\n",
    "\n",
    "import os\n",
    "for dirname, _, filenames in os.walk('/kaggle/input'):\n",
    "    for filename in filenames:\n",
    "        print(os.path.join(dirname, filename))\n",
    "\n",
    "# You can write up to 20GB to the current directory (/kaggle/working/) that gets preserved as output when you create a version using \"Save & Run All\" \n",
    "# You can also write temporary files to /kaggle/temp/, but they won't be saved outside of the current session"
   ]
  },
  {
   "cell_type": "code",
   "execution_count": 2,
   "id": "46c789b1",
   "metadata": {
    "execution": {
     "iopub.execute_input": "2022-12-20T19:51:50.885637Z",
     "iopub.status.busy": "2022-12-20T19:51:50.885267Z",
     "iopub.status.idle": "2022-12-20T19:51:50.953635Z",
     "shell.execute_reply": "2022-12-20T19:51:50.952260Z"
    },
    "papermill": {
     "duration": 0.081803,
     "end_time": "2022-12-20T19:51:50.956201",
     "exception": false,
     "start_time": "2022-12-20T19:51:50.874398",
     "status": "completed"
    },
    "tags": []
   },
   "outputs": [
    {
     "data": {
      "text/html": [
       "<div>\n",
       "<style scoped>\n",
       "    .dataframe tbody tr th:only-of-type {\n",
       "        vertical-align: middle;\n",
       "    }\n",
       "\n",
       "    .dataframe tbody tr th {\n",
       "        vertical-align: top;\n",
       "    }\n",
       "\n",
       "    .dataframe thead th {\n",
       "        text-align: right;\n",
       "    }\n",
       "</style>\n",
       "<table border=\"1\" class=\"dataframe\">\n",
       "  <thead>\n",
       "    <tr style=\"text-align: right;\">\n",
       "      <th></th>\n",
       "      <th>Poster_Link</th>\n",
       "      <th>Series_Title</th>\n",
       "      <th>Released_Year</th>\n",
       "      <th>Certificate</th>\n",
       "      <th>Runtime</th>\n",
       "      <th>Genre</th>\n",
       "      <th>IMDB_Rating</th>\n",
       "      <th>Overview</th>\n",
       "      <th>Meta_score</th>\n",
       "      <th>Director</th>\n",
       "      <th>Star1</th>\n",
       "      <th>Star2</th>\n",
       "      <th>Star3</th>\n",
       "      <th>Star4</th>\n",
       "      <th>No_of_Votes</th>\n",
       "      <th>Gross</th>\n",
       "    </tr>\n",
       "  </thead>\n",
       "  <tbody>\n",
       "    <tr>\n",
       "      <th>0</th>\n",
       "      <td>https://m.media-amazon.com/images/M/MV5BMDFkYT...</td>\n",
       "      <td>The Shawshank Redemption</td>\n",
       "      <td>1994</td>\n",
       "      <td>A</td>\n",
       "      <td>142 min</td>\n",
       "      <td>Drama</td>\n",
       "      <td>9.3</td>\n",
       "      <td>Two imprisoned men bond over a number of years...</td>\n",
       "      <td>80.0</td>\n",
       "      <td>Frank Darabont</td>\n",
       "      <td>Tim Robbins</td>\n",
       "      <td>Morgan Freeman</td>\n",
       "      <td>Bob Gunton</td>\n",
       "      <td>William Sadler</td>\n",
       "      <td>2343110</td>\n",
       "      <td>28,341,469</td>\n",
       "    </tr>\n",
       "    <tr>\n",
       "      <th>1</th>\n",
       "      <td>https://m.media-amazon.com/images/M/MV5BM2MyNj...</td>\n",
       "      <td>The Godfather</td>\n",
       "      <td>1972</td>\n",
       "      <td>A</td>\n",
       "      <td>175 min</td>\n",
       "      <td>Crime, Drama</td>\n",
       "      <td>9.2</td>\n",
       "      <td>An organized crime dynasty's aging patriarch t...</td>\n",
       "      <td>100.0</td>\n",
       "      <td>Francis Ford Coppola</td>\n",
       "      <td>Marlon Brando</td>\n",
       "      <td>Al Pacino</td>\n",
       "      <td>James Caan</td>\n",
       "      <td>Diane Keaton</td>\n",
       "      <td>1620367</td>\n",
       "      <td>134,966,411</td>\n",
       "    </tr>\n",
       "    <tr>\n",
       "      <th>2</th>\n",
       "      <td>https://m.media-amazon.com/images/M/MV5BMTMxNT...</td>\n",
       "      <td>The Dark Knight</td>\n",
       "      <td>2008</td>\n",
       "      <td>UA</td>\n",
       "      <td>152 min</td>\n",
       "      <td>Action, Crime, Drama</td>\n",
       "      <td>9.0</td>\n",
       "      <td>When the menace known as the Joker wreaks havo...</td>\n",
       "      <td>84.0</td>\n",
       "      <td>Christopher Nolan</td>\n",
       "      <td>Christian Bale</td>\n",
       "      <td>Heath Ledger</td>\n",
       "      <td>Aaron Eckhart</td>\n",
       "      <td>Michael Caine</td>\n",
       "      <td>2303232</td>\n",
       "      <td>534,858,444</td>\n",
       "    </tr>\n",
       "    <tr>\n",
       "      <th>3</th>\n",
       "      <td>https://m.media-amazon.com/images/M/MV5BMWMwMG...</td>\n",
       "      <td>The Godfather: Part II</td>\n",
       "      <td>1974</td>\n",
       "      <td>A</td>\n",
       "      <td>202 min</td>\n",
       "      <td>Crime, Drama</td>\n",
       "      <td>9.0</td>\n",
       "      <td>The early life and career of Vito Corleone in ...</td>\n",
       "      <td>90.0</td>\n",
       "      <td>Francis Ford Coppola</td>\n",
       "      <td>Al Pacino</td>\n",
       "      <td>Robert De Niro</td>\n",
       "      <td>Robert Duvall</td>\n",
       "      <td>Diane Keaton</td>\n",
       "      <td>1129952</td>\n",
       "      <td>57,300,000</td>\n",
       "    </tr>\n",
       "    <tr>\n",
       "      <th>4</th>\n",
       "      <td>https://m.media-amazon.com/images/M/MV5BMWU4N2...</td>\n",
       "      <td>12 Angry Men</td>\n",
       "      <td>1957</td>\n",
       "      <td>U</td>\n",
       "      <td>96 min</td>\n",
       "      <td>Crime, Drama</td>\n",
       "      <td>9.0</td>\n",
       "      <td>A jury holdout attempts to prevent a miscarria...</td>\n",
       "      <td>96.0</td>\n",
       "      <td>Sidney Lumet</td>\n",
       "      <td>Henry Fonda</td>\n",
       "      <td>Lee J. Cobb</td>\n",
       "      <td>Martin Balsam</td>\n",
       "      <td>John Fiedler</td>\n",
       "      <td>689845</td>\n",
       "      <td>4,360,000</td>\n",
       "    </tr>\n",
       "  </tbody>\n",
       "</table>\n",
       "</div>"
      ],
      "text/plain": [
       "                                         Poster_Link  \\\n",
       "0  https://m.media-amazon.com/images/M/MV5BMDFkYT...   \n",
       "1  https://m.media-amazon.com/images/M/MV5BM2MyNj...   \n",
       "2  https://m.media-amazon.com/images/M/MV5BMTMxNT...   \n",
       "3  https://m.media-amazon.com/images/M/MV5BMWMwMG...   \n",
       "4  https://m.media-amazon.com/images/M/MV5BMWU4N2...   \n",
       "\n",
       "               Series_Title Released_Year Certificate  Runtime  \\\n",
       "0  The Shawshank Redemption          1994           A  142 min   \n",
       "1             The Godfather          1972           A  175 min   \n",
       "2           The Dark Knight          2008          UA  152 min   \n",
       "3    The Godfather: Part II          1974           A  202 min   \n",
       "4              12 Angry Men          1957           U   96 min   \n",
       "\n",
       "                  Genre  IMDB_Rating  \\\n",
       "0                 Drama          9.3   \n",
       "1          Crime, Drama          9.2   \n",
       "2  Action, Crime, Drama          9.0   \n",
       "3          Crime, Drama          9.0   \n",
       "4          Crime, Drama          9.0   \n",
       "\n",
       "                                            Overview  Meta_score  \\\n",
       "0  Two imprisoned men bond over a number of years...        80.0   \n",
       "1  An organized crime dynasty's aging patriarch t...       100.0   \n",
       "2  When the menace known as the Joker wreaks havo...        84.0   \n",
       "3  The early life and career of Vito Corleone in ...        90.0   \n",
       "4  A jury holdout attempts to prevent a miscarria...        96.0   \n",
       "\n",
       "               Director           Star1           Star2          Star3  \\\n",
       "0        Frank Darabont     Tim Robbins  Morgan Freeman     Bob Gunton   \n",
       "1  Francis Ford Coppola   Marlon Brando       Al Pacino     James Caan   \n",
       "2     Christopher Nolan  Christian Bale    Heath Ledger  Aaron Eckhart   \n",
       "3  Francis Ford Coppola       Al Pacino  Robert De Niro  Robert Duvall   \n",
       "4          Sidney Lumet     Henry Fonda     Lee J. Cobb  Martin Balsam   \n",
       "\n",
       "            Star4  No_of_Votes        Gross  \n",
       "0  William Sadler      2343110   28,341,469  \n",
       "1    Diane Keaton      1620367  134,966,411  \n",
       "2   Michael Caine      2303232  534,858,444  \n",
       "3    Diane Keaton      1129952   57,300,000  \n",
       "4    John Fiedler       689845    4,360,000  "
      ]
     },
     "execution_count": 2,
     "metadata": {},
     "output_type": "execute_result"
    }
   ],
   "source": [
    "df = pd.read_csv('/kaggle/input/imdb-dataset-of-top-1000-movies-and-tv-shows/imdb_top_1000.csv')\n",
    "df.head()"
   ]
  },
  {
   "cell_type": "code",
   "execution_count": 3,
   "id": "05015712",
   "metadata": {
    "execution": {
     "iopub.execute_input": "2022-12-20T19:51:50.977905Z",
     "iopub.status.busy": "2022-12-20T19:51:50.977521Z",
     "iopub.status.idle": "2022-12-20T19:51:51.006632Z",
     "shell.execute_reply": "2022-12-20T19:51:51.004889Z"
    },
    "papermill": {
     "duration": 0.042844,
     "end_time": "2022-12-20T19:51:51.009090",
     "exception": false,
     "start_time": "2022-12-20T19:51:50.966246",
     "status": "completed"
    },
    "tags": []
   },
   "outputs": [
    {
     "name": "stdout",
     "output_type": "stream",
     "text": [
      "<class 'pandas.core.frame.DataFrame'>\n",
      "RangeIndex: 1000 entries, 0 to 999\n",
      "Data columns (total 16 columns):\n",
      " #   Column         Non-Null Count  Dtype  \n",
      "---  ------         --------------  -----  \n",
      " 0   Poster_Link    1000 non-null   object \n",
      " 1   Series_Title   1000 non-null   object \n",
      " 2   Released_Year  1000 non-null   object \n",
      " 3   Certificate    899 non-null    object \n",
      " 4   Runtime        1000 non-null   object \n",
      " 5   Genre          1000 non-null   object \n",
      " 6   IMDB_Rating    1000 non-null   float64\n",
      " 7   Overview       1000 non-null   object \n",
      " 8   Meta_score     843 non-null    float64\n",
      " 9   Director       1000 non-null   object \n",
      " 10  Star1          1000 non-null   object \n",
      " 11  Star2          1000 non-null   object \n",
      " 12  Star3          1000 non-null   object \n",
      " 13  Star4          1000 non-null   object \n",
      " 14  No_of_Votes    1000 non-null   int64  \n",
      " 15  Gross          831 non-null    object \n",
      "dtypes: float64(2), int64(1), object(13)\n",
      "memory usage: 125.1+ KB\n"
     ]
    }
   ],
   "source": [
    "df.info()"
   ]
  },
  {
   "cell_type": "code",
   "execution_count": 4,
   "id": "c3768937",
   "metadata": {
    "execution": {
     "iopub.execute_input": "2022-12-20T19:51:51.031137Z",
     "iopub.status.busy": "2022-12-20T19:51:51.030329Z",
     "iopub.status.idle": "2022-12-20T19:51:51.037495Z",
     "shell.execute_reply": "2022-12-20T19:51:51.036622Z"
    },
    "papermill": {
     "duration": 0.020595,
     "end_time": "2022-12-20T19:51:51.039642",
     "exception": false,
     "start_time": "2022-12-20T19:51:51.019047",
     "status": "completed"
    },
    "tags": []
   },
   "outputs": [
    {
     "data": {
      "text/plain": [
       "Index(['Poster_Link', 'Series_Title', 'Released_Year', 'Certificate',\n",
       "       'Runtime', 'Genre', 'IMDB_Rating', 'Overview', 'Meta_score', 'Director',\n",
       "       'Star1', 'Star2', 'Star3', 'Star4', 'No_of_Votes', 'Gross'],\n",
       "      dtype='object')"
      ]
     },
     "execution_count": 4,
     "metadata": {},
     "output_type": "execute_result"
    }
   ],
   "source": [
    "df.columns"
   ]
  },
  {
   "attachments": {
    "f1c517ab-7fc6-4102-bba4-d3faf5ba9bfe.png": {
     "image/png": "[encoded data removed]"
    }
   },
   "cell_type": "markdown",
   "id": "b64ad99e",
   "metadata": {
    "papermill": {
     "duration": 0.010656,
     "end_time": "2022-12-20T19:51:51.060285",
     "exception": false,
     "start_time": "2022-12-20T19:51:51.049629",
     "status": "completed"
    },
    "tags": []
   },
   "source": [
    "# Demographic Filtering\n",
    "- Film popülerliğine ve/veya türüne göre her kullanıcıya genelleştirilmiş öneriler sunarlar. Sistem, benzer demografik özelliklere sahip kullanıcılara aynı filmleri önerir. Her kullanıcı farklı olduğundan, bu yaklaşım çok basit olarak kabul edilir. Bu sistemin arkasındaki temel fikir, daha popüler ve eleştirmenlerce beğenilen filmlerin ortalama izleyici tarafından beğenilme olasılığının daha yüksek olacağıdır.\n",
    "\n",
    "- Filmin ortalama reytinglerini puan olarak kullanabiliriz ama bunu kullanmak yeterince adil olmayacaktır çünkü ortalama reytingi 8,9 olan ve sadece 3 oy alan bir film, ortalama reytingi 7,8 olan ancak 40 oy alan filmden daha iyi kabul edilemez. Bu yüzden, IMDB'nin şu şekilde verilen ağırlıklı derecelendirmesini (wr) kullandık: \n",
    "\n",
    "![wr.png](attachment:f1c517ab-7fc6-4102-bba4-d3faf5ba9bfe.png)\n",
    "\n",
    "    • v, film için oy sayısıdır\n",
    "    • m, tabloda listelenmek için gereken minimum oy sayısıdır\n",
    "    • R, filmin ortalama puanıdır\n",
    "    • C, raporun tamamındaki ortalama oydur\n",
    "    \n",
    "- Toplam oy sayısı(v) ve filmin ortalaması bizde hali hazırda var. 'v' değeri için 'No_of_Votes' sütununu kullanıcağız. 'R' değeri için 'IMDB_Rating' sütununu kullanıcağız."
   ]
  },
  {
   "cell_type": "markdown",
   "id": "ee256e8c",
   "metadata": {
    "papermill": {
     "duration": 0.010874,
     "end_time": "2022-12-20T19:51:51.085186",
     "exception": false,
     "start_time": "2022-12-20T19:51:51.074312",
     "status": "completed"
    },
    "tags": []
   },
   "source": [
    "- 'C' değerini bulmak için;"
   ]
  },
  {
   "cell_type": "code",
   "execution_count": 5,
   "id": "f7b7484a",
   "metadata": {
    "execution": {
     "iopub.execute_input": "2022-12-20T19:51:51.115976Z",
     "iopub.status.busy": "2022-12-20T19:51:51.115180Z",
     "iopub.status.idle": "2022-12-20T19:51:51.122710Z",
     "shell.execute_reply": "2022-12-20T19:51:51.121772Z"
    },
    "papermill": {
     "duration": 0.02378,
     "end_time": "2022-12-20T19:51:51.125003",
     "exception": false,
     "start_time": "2022-12-20T19:51:51.101223",
     "status": "completed"
    },
    "tags": []
   },
   "outputs": [
    {
     "data": {
      "text/plain": [
       "7.949299999999999"
      ]
     },
     "execution_count": 5,
     "metadata": {},
     "output_type": "execute_result"
    }
   ],
   "source": [
    "C= df['IMDB_Rating'].mean()\n",
    "C"
   ]
  },
  {
   "cell_type": "markdown",
   "id": "609b80c3",
   "metadata": {
    "papermill": {
     "duration": 0.010196,
     "end_time": "2022-12-20T19:51:51.145788",
     "exception": false,
     "start_time": "2022-12-20T19:51:51.135592",
     "status": "completed"
    },
    "tags": []
   },
   "source": [
    "- 'm' değeri için minimum noktayı %90 belirledik. Yani bir filmin listelerde yer alabilmesi için listedeki filmlerin en az %90'ından fazla oy alması gerekiyor.\n",
    "\n",
    "- 'm' için;"
   ]
  },
  {
   "cell_type": "code",
   "execution_count": 6,
   "id": "8aeb8385",
   "metadata": {
    "execution": {
     "iopub.execute_input": "2022-12-20T19:51:51.168993Z",
     "iopub.status.busy": "2022-12-20T19:51:51.168083Z",
     "iopub.status.idle": "2022-12-20T19:51:51.178584Z",
     "shell.execute_reply": "2022-12-20T19:51:51.177490Z"
    },
    "papermill": {
     "duration": 0.024576,
     "end_time": "2022-12-20T19:51:51.180720",
     "exception": false,
     "start_time": "2022-12-20T19:51:51.156144",
     "status": "completed"
    },
    "tags": []
   },
   "outputs": [
    {
     "data": {
      "text/plain": [
       "699297.7"
      ]
     },
     "execution_count": 6,
     "metadata": {},
     "output_type": "execute_result"
    }
   ],
   "source": [
    "m= df['No_of_Votes'].quantile(0.9)\n",
    "m"
   ]
  },
  {
   "cell_type": "markdown",
   "id": "65e42884",
   "metadata": {
    "papermill": {
     "duration": 0.01,
     "end_time": "2022-12-20T19:51:51.203395",
     "exception": false,
     "start_time": "2022-12-20T19:51:51.193395",
     "status": "completed"
    },
    "tags": []
   },
   "source": [
    "- Listeye uygun filmleri filtrelemek için;"
   ]
  },
  {
   "cell_type": "code",
   "execution_count": 7,
   "id": "a2d5c811",
   "metadata": {
    "execution": {
     "iopub.execute_input": "2022-12-20T19:51:51.225848Z",
     "iopub.status.busy": "2022-12-20T19:51:51.225216Z",
     "iopub.status.idle": "2022-12-20T19:51:51.234697Z",
     "shell.execute_reply": "2022-12-20T19:51:51.233372Z"
    },
    "papermill": {
     "duration": 0.023523,
     "end_time": "2022-12-20T19:51:51.237095",
     "exception": false,
     "start_time": "2022-12-20T19:51:51.213572",
     "status": "completed"
    },
    "tags": []
   },
   "outputs": [
    {
     "data": {
      "text/plain": [
       "(100, 16)"
      ]
     },
     "execution_count": 7,
     "metadata": {},
     "output_type": "execute_result"
    }
   ],
   "source": [
    "movies = df.copy().loc[df['No_of_Votes'] >= m]\n",
    "movies.shape"
   ]
  },
  {
   "cell_type": "markdown",
   "id": "e06721de",
   "metadata": {
    "papermill": {
     "duration": 0.01011,
     "end_time": "2022-12-20T19:51:51.257492",
     "exception": false,
     "start_time": "2022-12-20T19:51:51.247382",
     "status": "completed"
    },
    "tags": []
   },
   "source": [
    "- Bu listeye giren 100 tane film var. Her nitelikli film için hesaplama yapacağız."
   ]
  },
  {
   "cell_type": "code",
   "execution_count": 8,
   "id": "c84fd703",
   "metadata": {
    "execution": {
     "iopub.execute_input": "2022-12-20T19:51:51.279638Z",
     "iopub.status.busy": "2022-12-20T19:51:51.279255Z",
     "iopub.status.idle": "2022-12-20T19:51:51.284957Z",
     "shell.execute_reply": "2022-12-20T19:51:51.283854Z"
    },
    "papermill": {
     "duration": 0.019686,
     "end_time": "2022-12-20T19:51:51.287416",
     "exception": false,
     "start_time": "2022-12-20T19:51:51.267730",
     "status": "completed"
    },
    "tags": []
   },
   "outputs": [],
   "source": [
    "def weighted_rating(x, m=m, C=C):\n",
    "    v = x['No_of_Votes']\n",
    "    R = x['IMDB_Rating']\n",
    "    # IMDB formülüne göre hesaplama\n",
    "    return (v/(v+m) * R) + (m/(m+v) * C)"
   ]
  },
  {
   "cell_type": "markdown",
   "id": "0cfe91b3",
   "metadata": {
    "papermill": {
     "duration": 0.010183,
     "end_time": "2022-12-20T19:51:51.308085",
     "exception": false,
     "start_time": "2022-12-20T19:51:51.297902",
     "status": "completed"
    },
    "tags": []
   },
   "source": [
    "- Yeni bir puan değeri hesaplanması."
   ]
  },
  {
   "cell_type": "code",
   "execution_count": 9,
   "id": "40c27a8f",
   "metadata": {
    "execution": {
     "iopub.execute_input": "2022-12-20T19:51:51.330686Z",
     "iopub.status.busy": "2022-12-20T19:51:51.330313Z",
     "iopub.status.idle": "2022-12-20T19:51:51.339129Z",
     "shell.execute_reply": "2022-12-20T19:51:51.338203Z"
    },
    "papermill": {
     "duration": 0.02267,
     "end_time": "2022-12-20T19:51:51.341322",
     "exception": false,
     "start_time": "2022-12-20T19:51:51.318652",
     "status": "completed"
    },
    "tags": []
   },
   "outputs": [],
   "source": [
    "movies['score'] = movies.apply(weighted_rating, axis=1)"
   ]
  },
  {
   "cell_type": "markdown",
   "id": "1452fe28",
   "metadata": {
    "papermill": {
     "duration": 0.009985,
     "end_time": "2022-12-20T19:51:51.361764",
     "exception": false,
     "start_time": "2022-12-20T19:51:51.351779",
     "status": "completed"
    },
    "tags": []
   },
   "source": [
    "- 'score' özelliğine göre ilk o filmin yazdırılması."
   ]
  },
  {
   "cell_type": "code",
   "execution_count": 10,
   "id": "5c5cf114",
   "metadata": {
    "execution": {
     "iopub.execute_input": "2022-12-20T19:51:51.384616Z",
     "iopub.status.busy": "2022-12-20T19:51:51.383608Z",
     "iopub.status.idle": "2022-12-20T19:51:51.400033Z",
     "shell.execute_reply": "2022-12-20T19:51:51.398821Z"
    },
    "papermill": {
     "duration": 0.030393,
     "end_time": "2022-12-20T19:51:51.402361",
     "exception": false,
     "start_time": "2022-12-20T19:51:51.371968",
     "status": "completed"
    },
    "tags": []
   },
   "outputs": [
    {
     "data": {
      "text/html": [
       "<div>\n",
       "<style scoped>\n",
       "    .dataframe tbody tr th:only-of-type {\n",
       "        vertical-align: middle;\n",
       "    }\n",
       "\n",
       "    .dataframe tbody tr th {\n",
       "        vertical-align: top;\n",
       "    }\n",
       "\n",
       "    .dataframe thead th {\n",
       "        text-align: right;\n",
       "    }\n",
       "</style>\n",
       "<table border=\"1\" class=\"dataframe\">\n",
       "  <thead>\n",
       "    <tr style=\"text-align: right;\">\n",
       "      <th></th>\n",
       "      <th>Series_Title</th>\n",
       "      <th>No_of_Votes</th>\n",
       "      <th>IMDB_Rating</th>\n",
       "      <th>score</th>\n",
       "    </tr>\n",
       "  </thead>\n",
       "  <tbody>\n",
       "    <tr>\n",
       "      <th>0</th>\n",
       "      <td>The Shawshank Redemption</td>\n",
       "      <td>2343110</td>\n",
       "      <td>9.3</td>\n",
       "      <td>8.989541</td>\n",
       "    </tr>\n",
       "    <tr>\n",
       "      <th>1</th>\n",
       "      <td>The Godfather</td>\n",
       "      <td>1620367</td>\n",
       "      <td>9.2</td>\n",
       "      <td>8.822958</td>\n",
       "    </tr>\n",
       "    <tr>\n",
       "      <th>2</th>\n",
       "      <td>The Dark Knight</td>\n",
       "      <td>2303232</td>\n",
       "      <td>9.0</td>\n",
       "      <td>8.755289</td>\n",
       "    </tr>\n",
       "    <tr>\n",
       "      <th>6</th>\n",
       "      <td>Pulp Fiction</td>\n",
       "      <td>1826188</td>\n",
       "      <td>8.9</td>\n",
       "      <td>8.636755</td>\n",
       "    </tr>\n",
       "    <tr>\n",
       "      <th>5</th>\n",
       "      <td>The Lord of the Rings: The Return of the King</td>\n",
       "      <td>1642758</td>\n",
       "      <td>8.9</td>\n",
       "      <td>8.616137</td>\n",
       "    </tr>\n",
       "    <tr>\n",
       "      <th>3</th>\n",
       "      <td>The Godfather: Part II</td>\n",
       "      <td>1129952</td>\n",
       "      <td>9.0</td>\n",
       "      <td>8.598331</td>\n",
       "    </tr>\n",
       "    <tr>\n",
       "      <th>8</th>\n",
       "      <td>Inception</td>\n",
       "      <td>2067042</td>\n",
       "      <td>8.8</td>\n",
       "      <td>8.584953</td>\n",
       "    </tr>\n",
       "    <tr>\n",
       "      <th>9</th>\n",
       "      <td>Fight Club</td>\n",
       "      <td>1854740</td>\n",
       "      <td>8.8</td>\n",
       "      <td>8.567078</td>\n",
       "    </tr>\n",
       "    <tr>\n",
       "      <th>11</th>\n",
       "      <td>Forrest Gump</td>\n",
       "      <td>1809221</td>\n",
       "      <td>8.8</td>\n",
       "      <td>8.562851</td>\n",
       "    </tr>\n",
       "    <tr>\n",
       "      <th>7</th>\n",
       "      <td>Schindler's List</td>\n",
       "      <td>1213505</td>\n",
       "      <td>8.9</td>\n",
       "      <td>8.552435</td>\n",
       "    </tr>\n",
       "  </tbody>\n",
       "</table>\n",
       "</div>"
      ],
      "text/plain": [
       "                                     Series_Title  No_of_Votes  IMDB_Rating  \\\n",
       "0                        The Shawshank Redemption      2343110          9.3   \n",
       "1                                   The Godfather      1620367          9.2   \n",
       "2                                 The Dark Knight      2303232          9.0   \n",
       "6                                    Pulp Fiction      1826188          8.9   \n",
       "5   The Lord of the Rings: The Return of the King      1642758          8.9   \n",
       "3                          The Godfather: Part II      1129952          9.0   \n",
       "8                                       Inception      2067042          8.8   \n",
       "9                                      Fight Club      1854740          8.8   \n",
       "11                                   Forrest Gump      1809221          8.8   \n",
       "7                                Schindler's List      1213505          8.9   \n",
       "\n",
       "       score  \n",
       "0   8.989541  \n",
       "1   8.822958  \n",
       "2   8.755289  \n",
       "6   8.636755  \n",
       "5   8.616137  \n",
       "3   8.598331  \n",
       "8   8.584953  \n",
       "9   8.567078  \n",
       "11  8.562851  \n",
       "7   8.552435  "
      ]
     },
     "execution_count": 10,
     "metadata": {},
     "output_type": "execute_result"
    }
   ],
   "source": [
    "movies = movies.sort_values('score', ascending=False)\n",
    "movies[['Series_Title', 'No_of_Votes', 'IMDB_Rating', 'score']].head(10)"
   ]
  },
  {
   "cell_type": "markdown",
   "id": "d1548901",
   "metadata": {
    "papermill": {
     "duration": 0.010139,
     "end_time": "2022-12-20T19:51:51.422900",
     "exception": false,
     "start_time": "2022-12-20T19:51:51.412761",
     "status": "completed"
    },
    "tags": []
   },
   "source": [
    "# Content Based Filtering\n",
    "- Bu filtreleme yöntemi, bir filmin açıklamasına ve kullanıcının tercih ettiği seçeneklerin içeriğine dayanmaktadır. İçerik tabanlı bir öneri sisteminde, anahtar kelimeler ürünü tanımlamak için kullanılmaktadır. Algoritmalar, bir kullanıcının geçmişte beğendiklerine benzer filmleri önermeye çalışır. İçeriğe Dayalı Filtreleme fikri, bir filmi beğendiyseniz bu filme benzer başka bir film de beğeneceğinize dayanmaktadır.\n",
    "- Konu açıklamalarına göre tüm filmler için ikili benzerlik puanlarını hesaplayacağız ve bu benzerlik puanına göre filmler önereceğiz. "
   ]
  },
  {
   "cell_type": "code",
   "execution_count": 11,
   "id": "68cf751a",
   "metadata": {
    "execution": {
     "iopub.execute_input": "2022-12-20T19:51:51.445995Z",
     "iopub.status.busy": "2022-12-20T19:51:51.445038Z",
     "iopub.status.idle": "2022-12-20T19:51:51.454117Z",
     "shell.execute_reply": "2022-12-20T19:51:51.452225Z"
    },
    "papermill": {
     "duration": 0.024187,
     "end_time": "2022-12-20T19:51:51.457502",
     "exception": false,
     "start_time": "2022-12-20T19:51:51.433315",
     "status": "completed"
    },
    "tags": []
   },
   "outputs": [
    {
     "data": {
      "text/plain": [
       "0    Two imprisoned men bond over a number of years...\n",
       "1    An organized crime dynasty's aging patriarch t...\n",
       "2    When the menace known as the Joker wreaks havo...\n",
       "3    The early life and career of Vito Corleone in ...\n",
       "4    A jury holdout attempts to prevent a miscarria...\n",
       "Name: Overview, dtype: object"
      ]
     },
     "execution_count": 11,
     "metadata": {},
     "output_type": "execute_result"
    }
   ],
   "source": [
    "df['Overview'].head()"
   ]
  },
  {
   "cell_type": "markdown",
   "id": "2ff6ff45",
   "metadata": {
    "papermill": {
     "duration": 0.011375,
     "end_time": "2022-12-20T19:51:51.481000",
     "exception": false,
     "start_time": "2022-12-20T19:51:51.469625",
     "status": "completed"
    },
    "tags": []
   },
   "source": [
    " - Her 'overview' için Terim Frekansı-Ters Belge Frekansı (TF-IDF) vektörlerini hesaplayacağız."
   ]
  },
  {
   "cell_type": "code",
   "execution_count": 12,
   "id": "9efa55c5",
   "metadata": {
    "execution": {
     "iopub.execute_input": "2022-12-20T19:51:51.509818Z",
     "iopub.status.busy": "2022-12-20T19:51:51.508958Z",
     "iopub.status.idle": "2022-12-20T19:51:51.721480Z",
     "shell.execute_reply": "2022-12-20T19:51:51.720313Z"
    },
    "papermill": {
     "duration": 0.227783,
     "end_time": "2022-12-20T19:51:51.724488",
     "exception": false,
     "start_time": "2022-12-20T19:51:51.496705",
     "status": "completed"
    },
    "tags": []
   },
   "outputs": [
    {
     "data": {
      "text/plain": [
       "(1000, 5426)"
      ]
     },
     "execution_count": 12,
     "metadata": {},
     "output_type": "execute_result"
    }
   ],
   "source": [
    "from sklearn.feature_extraction.text import TfidfVectorizer\n",
    "\n",
    "#TF-IDF vektörünü daha sağlıklı hesaplamak için 'a' ve 'the' sözcüklerini kaldırıyoruz.\n",
    "tfidf = TfidfVectorizer(stop_words='english')\n",
    "\n",
    "#NaN değerini boş bir dizeyle değiştiriyoruz\n",
    "df['Overview'] = df['Overview'].fillna('')\n",
    "\n",
    "#TF-IDF matrisinin oluşturulması\n",
    "tfidf_matrix = tfidf.fit_transform(df['Overview'])\n",
    "\n",
    "tfidf_matrix.shape"
   ]
  },
  {
   "cell_type": "markdown",
   "id": "7bed3e06",
   "metadata": {
    "papermill": {
     "duration": 0.010973,
     "end_time": "2022-12-20T19:51:51.747830",
     "exception": false,
     "start_time": "2022-12-20T19:51:51.736857",
     "status": "completed"
    },
    "tags": []
   },
   "source": [
    "- Veri setimizde bulunan 1000 filmi tanımlamak için 5426 tane farklı kelime kullanılmıştır.\n",
    "- Büyüklükten bağımsız olduğu ve hesaplaması nispeten kolay ve hızlı olduğu için kosinüs benzerlik skorunu kullanıyoruz.\n",
    "- TF-IDF vektörleştiricisini kullandığımız için, iç çarpımı hesaplamak bize doğrudan kosinüs benzerlik puanını verecektir. Bu nedenle, daha hızlı olduğu için cosine_similarities() yerine sklearn'ün linear_kernel() işlevini kullanacağız."
   ]
  },
  {
   "cell_type": "markdown",
   "id": "13c636fb",
   "metadata": {
    "papermill": {
     "duration": 0.01151,
     "end_time": "2022-12-20T19:51:51.770849",
     "exception": false,
     "start_time": "2022-12-20T19:51:51.759339",
     "status": "completed"
    },
    "tags": []
   },
   "source": [
    "- Kosinüs benzerlik puanına göre ;"
   ]
  },
  {
   "cell_type": "code",
   "execution_count": 13,
   "id": "ce15e0d8",
   "metadata": {
    "execution": {
     "iopub.execute_input": "2022-12-20T19:51:51.794309Z",
     "iopub.status.busy": "2022-12-20T19:51:51.793628Z",
     "iopub.status.idle": "2022-12-20T19:51:51.861871Z",
     "shell.execute_reply": "2022-12-20T19:51:51.860727Z"
    },
    "papermill": {
     "duration": 0.083021,
     "end_time": "2022-12-20T19:51:51.864658",
     "exception": false,
     "start_time": "2022-12-20T19:51:51.781637",
     "status": "completed"
    },
    "tags": []
   },
   "outputs": [],
   "source": [
    "from sklearn.metrics.pairwise import linear_kernel\n",
    "\n",
    "cosine_sim = linear_kernel(tfidf_matrix, tfidf_matrix)"
   ]
  },
  {
   "cell_type": "code",
   "execution_count": 14,
   "id": "05fc4e59",
   "metadata": {
    "execution": {
     "iopub.execute_input": "2022-12-20T19:51:51.887965Z",
     "iopub.status.busy": "2022-12-20T19:51:51.887593Z",
     "iopub.status.idle": "2022-12-20T19:51:51.893066Z",
     "shell.execute_reply": "2022-12-20T19:51:51.892238Z"
    },
    "papermill": {
     "duration": 0.019598,
     "end_time": "2022-12-20T19:51:51.895181",
     "exception": false,
     "start_time": "2022-12-20T19:51:51.875583",
     "status": "completed"
    },
    "tags": []
   },
   "outputs": [],
   "source": [
    "indices = pd.Series(df.index, index=df['Series_Title']).drop_duplicates()"
   ]
  },
  {
   "cell_type": "code",
   "execution_count": 15,
   "id": "25026c0a",
   "metadata": {
    "execution": {
     "iopub.execute_input": "2022-12-20T19:51:51.918822Z",
     "iopub.status.busy": "2022-12-20T19:51:51.918100Z",
     "iopub.status.idle": "2022-12-20T19:51:51.924595Z",
     "shell.execute_reply": "2022-12-20T19:51:51.923730Z"
    },
    "papermill": {
     "duration": 0.021076,
     "end_time": "2022-12-20T19:51:51.926961",
     "exception": false,
     "start_time": "2022-12-20T19:51:51.905885",
     "status": "completed"
    },
    "tags": []
   },
   "outputs": [],
   "source": [
    "# Film başlığını girdi olarak alıcak ve benzer filmleri döndürecek\n",
    "def recommendations(series_title, cosine_sim=cosine_sim):\n",
    "    \n",
    "    # Başlıkla eşleşen filmin indeksi alınır\n",
    "    idx = indices[series_title]\n",
    "\n",
    "    # Benzerlik puanı alınır\n",
    "    sim_scores = list(enumerate(cosine_sim[idx]))\n",
    "\n",
    "    # Benzerlik puanına göre sıralanma\n",
    "    sim_scores = sorted(sim_scores, key=lambda x: x[1], reverse=True)\n",
    "\n",
    "    # En benzer 10 filmin puanı alınır\n",
    "    sim_scores = sim_scores[1:11]\n",
    "\n",
    "    # Film indekleri alınır\n",
    "    movie_indices = [i[0] for i in sim_scores]\n",
    "\n",
    "    # İlk 10 film döndürülür\n",
    "    return df['Series_Title'].iloc[movie_indices]"
   ]
  },
  {
   "cell_type": "code",
   "execution_count": 16,
   "id": "ef464a40",
   "metadata": {
    "execution": {
     "iopub.execute_input": "2022-12-20T19:51:51.950759Z",
     "iopub.status.busy": "2022-12-20T19:51:51.950032Z",
     "iopub.status.idle": "2022-12-20T19:51:51.964171Z",
     "shell.execute_reply": "2022-12-20T19:51:51.962885Z"
    },
    "papermill": {
     "duration": 0.02906,
     "end_time": "2022-12-20T19:51:51.966859",
     "exception": false,
     "start_time": "2022-12-20T19:51:51.937799",
     "status": "completed"
    },
    "tags": []
   },
   "outputs": [
    {
     "data": {
      "text/plain": [
       "463                             Knives Out\n",
       "974                The Godfather: Part III\n",
       "739                               Nebraska\n",
       "628    The Curious Case of Benjamin Button\n",
       "913                              Die Welle\n",
       "184                        Smultronstället\n",
       "543                         The Wild Bunch\n",
       "442                The Night of the Hunter\n",
       "3                   The Godfather: Part II\n",
       "618      The Hobbit: An Unexpected Journey\n",
       "Name: Series_Title, dtype: object"
      ]
     },
     "execution_count": 16,
     "metadata": {},
     "output_type": "execute_result"
    }
   ],
   "source": [
    "recommendations('The Godfather')"
   ]
  },
  {
   "cell_type": "markdown",
   "id": "ab63717b",
   "metadata": {
    "papermill": {
     "duration": 0.010635,
     "end_time": "2022-12-20T19:51:51.989046",
     "exception": false,
     "start_time": "2022-12-20T19:51:51.978411",
     "status": "completed"
    },
    "tags": []
   },
   "source": [
    "# Collaborative Filtering\n",
    "- Bu filtreleme yöntemi genellikle kullanıcının davranışları, etkinlikleri veya tercihleri hakkında bilgi toplamaya, analiz etmeye ve diğer kullanıcılarla olan benzerliğini temel alarak neleri seveceklerini tahmin etmeye dayanmaktadır. En önemli avantajlarından biri analiz için içeriğe ihtiyaç duymaması ve bu nedenle nesnenin kendisini anlamasını gerektirmeden karmaşık öğeleri doğru bir şekilde önerebilmesidir. İşbirliğine Dayalı Filtreleme, geçmişte benzer tercihlere sahip olan bireylerin gelecekte aynı tercihleri yapacakları varsayımına dayanmaktadır.\n",
    "- Kullanıcıya göre öneri yapabilmemiz için 'userId' değerine ihtiyacımız var ve bu nedenle ikinci data setini proje ekliyoruz.\n",
    "- User based filtering : Bu sistemler, benzer kullanıcıların beğendiği ürünleri bir kullanıcıya önerir.İki kullanıcı arasındaki benzerliği ölçmek için pearson korelasyonu veya kosinüs benzerliği kullanabiliriz.Kullanıcı tabanlı CF'yi hesaplamak çok basit olmasına rağmen, birkaç sorundan muzdariptir. Ana sorunlardan biri, kullanıcıların tercihinin zaman içinde değişebilmesidir. Komşu kullanıcılara göre matrisin önceden hesaplanmasının kötü performansa yol açabileceğini gösterir.\n",
    "- Item Based Collaborative Filtering : Hedef kullanıcının derecelendirdiği öğelerle benzerliklerine göre öğeler önerir.Benzerlik, Pearson Korelasyonu veya Kosinüs Benzerliği ile hesaplanabilir.Statik olduğundan, dinamik kullanıcı tercihinin ortaya çıkardığı sorunu başarıyla önler.Ancak, bu yöntem için birkaç sorun devam etmektedir. İlk olarak, ana konu ölçeklenebilirliktir. Hesaplama hem müşteri hem de ürünle birlikte büyür. En kötü durum karmaşıklığı, m kullanıcı ve n öğe ile O(mn)'dir. Ek olarak, seyreklik başka bir endişe kaynağıdır. Aşırı durumlarda, milyonlarca kullanıcımız olabilir ve oldukça farklı iki film arasındaki benzerlik, yalnızca benzer sıralamaya sahip oldukları için çok yüksek olabilir. "
   ]
  },
  {
   "cell_type": "markdown",
   "id": "bd70a5b8",
   "metadata": {
    "papermill": {
     "duration": 0.010529,
     "end_time": "2022-12-20T19:51:52.010394",
     "exception": false,
     "start_time": "2022-12-20T19:51:51.999865",
     "status": "completed"
    },
    "tags": []
   },
   "source": [
    "### Single Value Decomposition (SVD)\n",
    "- CF tarafından oluşturulan ölçeklenebilirlik ve seyreklik sorununu halletmenin bir yolu, kullanıcılar ve öğeler arasındaki benzerliği yakalamak için bir gizli faktör modelinden yararlanmaktır. Esasen öneri problemini bir optimizasyon problemine dönüştürmek istiyoruz. Bir kullanıcıya verilen öğeler için derecelendirmeyi tahmin etmede ne kadar iyi olduğumuz olarak görebiliriz. Yaygın bir ölçüm, Kök Ortalama Kare Hatasıdır (RMSE). RMSE ne kadar düşükse performans o kadar iyidir.\n",
    "- SVD, gizli faktörlerini çıkararak fayda matrisinin boyutunu azaltır. Temel olarak, her bir kullanıcıyı ve her bir öğeyi r boyutuna sahip gizli bir uzaya eşleriz. Bu nedenle, doğrudan karşılaştırılabilir hale geldikçe, kullanıcılar ve öğeler arasındaki ilişkiyi daha iyi anlamamıza yardımcı olur."
   ]
  },
  {
   "cell_type": "code",
   "execution_count": 17,
   "id": "2631c52b",
   "metadata": {
    "execution": {
     "iopub.execute_input": "2022-12-20T19:51:52.033556Z",
     "iopub.status.busy": "2022-12-20T19:51:52.033185Z",
     "iopub.status.idle": "2022-12-20T19:52:17.241417Z",
     "shell.execute_reply": "2022-12-20T19:52:17.240237Z"
    },
    "papermill": {
     "duration": 25.22263,
     "end_time": "2022-12-20T19:52:17.243871",
     "exception": false,
     "start_time": "2022-12-20T19:51:52.021241",
     "status": "completed"
    },
    "tags": []
   },
   "outputs": [
    {
     "data": {
      "text/html": [
       "<div>\n",
       "<style scoped>\n",
       "    .dataframe tbody tr th:only-of-type {\n",
       "        vertical-align: middle;\n",
       "    }\n",
       "\n",
       "    .dataframe tbody tr th {\n",
       "        vertical-align: top;\n",
       "    }\n",
       "\n",
       "    .dataframe thead th {\n",
       "        text-align: right;\n",
       "    }\n",
       "</style>\n",
       "<table border=\"1\" class=\"dataframe\">\n",
       "  <thead>\n",
       "    <tr style=\"text-align: right;\">\n",
       "      <th></th>\n",
       "      <th>userId</th>\n",
       "      <th>movieId</th>\n",
       "      <th>rating</th>\n",
       "      <th>timestamp</th>\n",
       "    </tr>\n",
       "  </thead>\n",
       "  <tbody>\n",
       "    <tr>\n",
       "      <th>0</th>\n",
       "      <td>1</td>\n",
       "      <td>2</td>\n",
       "      <td>3.5</td>\n",
       "      <td>2005-04-02 23:53:47</td>\n",
       "    </tr>\n",
       "    <tr>\n",
       "      <th>1</th>\n",
       "      <td>1</td>\n",
       "      <td>29</td>\n",
       "      <td>3.5</td>\n",
       "      <td>2005-04-02 23:31:16</td>\n",
       "    </tr>\n",
       "    <tr>\n",
       "      <th>2</th>\n",
       "      <td>1</td>\n",
       "      <td>32</td>\n",
       "      <td>3.5</td>\n",
       "      <td>2005-04-02 23:33:39</td>\n",
       "    </tr>\n",
       "    <tr>\n",
       "      <th>3</th>\n",
       "      <td>1</td>\n",
       "      <td>47</td>\n",
       "      <td>3.5</td>\n",
       "      <td>2005-04-02 23:32:07</td>\n",
       "    </tr>\n",
       "    <tr>\n",
       "      <th>4</th>\n",
       "      <td>1</td>\n",
       "      <td>50</td>\n",
       "      <td>3.5</td>\n",
       "      <td>2005-04-02 23:29:40</td>\n",
       "    </tr>\n",
       "  </tbody>\n",
       "</table>\n",
       "</div>"
      ],
      "text/plain": [
       "   userId  movieId  rating            timestamp\n",
       "0       1        2     3.5  2005-04-02 23:53:47\n",
       "1       1       29     3.5  2005-04-02 23:31:16\n",
       "2       1       32     3.5  2005-04-02 23:33:39\n",
       "3       1       47     3.5  2005-04-02 23:32:07\n",
       "4       1       50     3.5  2005-04-02 23:29:40"
      ]
     },
     "execution_count": 17,
     "metadata": {},
     "output_type": "execute_result"
    }
   ],
   "source": [
    "ratings = pd.read_csv('/kaggle/input/movielens-20m-dataset/rating.csv')\n",
    "ratings.head()"
   ]
  },
  {
   "cell_type": "code",
   "execution_count": 18,
   "id": "2844d68f",
   "metadata": {
    "execution": {
     "iopub.execute_input": "2022-12-20T19:52:17.268924Z",
     "iopub.status.busy": "2022-12-20T19:52:17.268152Z",
     "iopub.status.idle": "2022-12-20T19:52:17.283999Z",
     "shell.execute_reply": "2022-12-20T19:52:17.283104Z"
    },
    "papermill": {
     "duration": 0.031064,
     "end_time": "2022-12-20T19:52:17.286305",
     "exception": false,
     "start_time": "2022-12-20T19:52:17.255241",
     "status": "completed"
    },
    "tags": []
   },
   "outputs": [
    {
     "data": {
      "text/html": [
       "<div>\n",
       "<style scoped>\n",
       "    .dataframe tbody tr th:only-of-type {\n",
       "        vertical-align: middle;\n",
       "    }\n",
       "\n",
       "    .dataframe tbody tr th {\n",
       "        vertical-align: top;\n",
       "    }\n",
       "\n",
       "    .dataframe thead th {\n",
       "        text-align: right;\n",
       "    }\n",
       "</style>\n",
       "<table border=\"1\" class=\"dataframe\">\n",
       "  <thead>\n",
       "    <tr style=\"text-align: right;\">\n",
       "      <th></th>\n",
       "      <th>userId</th>\n",
       "      <th>movieId</th>\n",
       "      <th>rating</th>\n",
       "      <th>timestamp</th>\n",
       "    </tr>\n",
       "  </thead>\n",
       "  <tbody>\n",
       "    <tr>\n",
       "      <th>0</th>\n",
       "      <td>1</td>\n",
       "      <td>2</td>\n",
       "      <td>3.5</td>\n",
       "      <td>2005-04-02 23:53:47</td>\n",
       "    </tr>\n",
       "    <tr>\n",
       "      <th>1</th>\n",
       "      <td>1</td>\n",
       "      <td>29</td>\n",
       "      <td>3.5</td>\n",
       "      <td>2005-04-02 23:31:16</td>\n",
       "    </tr>\n",
       "    <tr>\n",
       "      <th>2</th>\n",
       "      <td>1</td>\n",
       "      <td>32</td>\n",
       "      <td>3.5</td>\n",
       "      <td>2005-04-02 23:33:39</td>\n",
       "    </tr>\n",
       "    <tr>\n",
       "      <th>3</th>\n",
       "      <td>1</td>\n",
       "      <td>47</td>\n",
       "      <td>3.5</td>\n",
       "      <td>2005-04-02 23:32:07</td>\n",
       "    </tr>\n",
       "    <tr>\n",
       "      <th>4</th>\n",
       "      <td>1</td>\n",
       "      <td>50</td>\n",
       "      <td>3.5</td>\n",
       "      <td>2005-04-02 23:29:40</td>\n",
       "    </tr>\n",
       "    <tr>\n",
       "      <th>...</th>\n",
       "      <td>...</td>\n",
       "      <td>...</td>\n",
       "      <td>...</td>\n",
       "      <td>...</td>\n",
       "    </tr>\n",
       "    <tr>\n",
       "      <th>995</th>\n",
       "      <td>11</td>\n",
       "      <td>441</td>\n",
       "      <td>1.5</td>\n",
       "      <td>2009-01-01 23:52:42</td>\n",
       "    </tr>\n",
       "    <tr>\n",
       "      <th>996</th>\n",
       "      <td>11</td>\n",
       "      <td>442</td>\n",
       "      <td>4.5</td>\n",
       "      <td>2009-01-01 05:33:22</td>\n",
       "    </tr>\n",
       "    <tr>\n",
       "      <th>997</th>\n",
       "      <td>11</td>\n",
       "      <td>480</td>\n",
       "      <td>5.0</td>\n",
       "      <td>2009-01-01 05:45:13</td>\n",
       "    </tr>\n",
       "    <tr>\n",
       "      <th>998</th>\n",
       "      <td>11</td>\n",
       "      <td>500</td>\n",
       "      <td>4.5</td>\n",
       "      <td>2009-01-02 01:15:49</td>\n",
       "    </tr>\n",
       "    <tr>\n",
       "      <th>999</th>\n",
       "      <td>11</td>\n",
       "      <td>519</td>\n",
       "      <td>1.0</td>\n",
       "      <td>2009-01-01 05:26:31</td>\n",
       "    </tr>\n",
       "  </tbody>\n",
       "</table>\n",
       "<p>1000 rows × 4 columns</p>\n",
       "</div>"
      ],
      "text/plain": [
       "     userId  movieId  rating            timestamp\n",
       "0         1        2     3.5  2005-04-02 23:53:47\n",
       "1         1       29     3.5  2005-04-02 23:31:16\n",
       "2         1       32     3.5  2005-04-02 23:33:39\n",
       "3         1       47     3.5  2005-04-02 23:32:07\n",
       "4         1       50     3.5  2005-04-02 23:29:40\n",
       "..      ...      ...     ...                  ...\n",
       "995      11      441     1.5  2009-01-01 23:52:42\n",
       "996      11      442     4.5  2009-01-01 05:33:22\n",
       "997      11      480     5.0  2009-01-01 05:45:13\n",
       "998      11      500     4.5  2009-01-02 01:15:49\n",
       "999      11      519     1.0  2009-01-01 05:26:31\n",
       "\n",
       "[1000 rows x 4 columns]"
      ]
     },
     "execution_count": 18,
     "metadata": {},
     "output_type": "execute_result"
    }
   ],
   "source": [
    "ratings=ratings.iloc[0:1000]\n",
    "ratings"
   ]
  },
  {
   "cell_type": "code",
   "execution_count": 19,
   "id": "1e83535b",
   "metadata": {
    "execution": {
     "iopub.execute_input": "2022-12-20T19:52:17.311160Z",
     "iopub.status.busy": "2022-12-20T19:52:17.310542Z",
     "iopub.status.idle": "2022-12-20T19:52:17.373182Z",
     "shell.execute_reply": "2022-12-20T19:52:17.371741Z"
    },
    "papermill": {
     "duration": 0.078202,
     "end_time": "2022-12-20T19:52:17.375969",
     "exception": false,
     "start_time": "2022-12-20T19:52:17.297767",
     "status": "completed"
    },
    "tags": []
   },
   "outputs": [],
   "source": [
    "from surprise import Reader\n",
    "from surprise import SVD\n",
    "from surprise import Dataset\n",
    "from surprise.model_selection import cross_validate\n",
    "reader = Reader()"
   ]
  },
  {
   "cell_type": "code",
   "execution_count": 20,
   "id": "b2bac1c5",
   "metadata": {
    "execution": {
     "iopub.execute_input": "2022-12-20T19:52:17.401564Z",
     "iopub.status.busy": "2022-12-20T19:52:17.401131Z",
     "iopub.status.idle": "2022-12-20T19:52:18.037358Z",
     "shell.execute_reply": "2022-12-20T19:52:18.035927Z"
    },
    "papermill": {
     "duration": 0.651767,
     "end_time": "2022-12-20T19:52:18.039910",
     "exception": false,
     "start_time": "2022-12-20T19:52:17.388143",
     "status": "completed"
    },
    "tags": []
   },
   "outputs": [
    {
     "name": "stdout",
     "output_type": "stream",
     "text": [
      "Evaluating RMSE, MAE of algorithm SVD on 10 split(s).\n",
      "\n",
      "                  Fold 1  Fold 2  Fold 3  Fold 4  Fold 5  Fold 6  Fold 7  Fold 8  Fold 9  Fold 10 Mean    Std     \n",
      "RMSE (testset)    0.9251  0.9519  0.8615  0.8283  0.8581  0.6595  0.9442  0.8842  0.8401  0.8119  0.8565  0.0801  \n",
      "MAE (testset)     0.6712  0.7613  0.6769  0.6292  0.6703  0.5238  0.6912  0.7165  0.6780  0.6732  0.6691  0.0584  \n",
      "Fit time          0.06    0.06    0.06    0.06    0.06    0.06    0.06    0.06    0.06    0.06    0.06    0.00    \n",
      "Test time         0.00    0.00    0.00    0.00    0.00    0.00    0.00    0.00    0.00    0.00    0.00    0.00    \n"
     ]
    },
    {
     "data": {
      "text/plain": [
       "{'test_rmse': array([0.92505538, 0.9519223 , 0.86148151, 0.82828228, 0.85813828,\n",
       "        0.6595245 , 0.94421958, 0.88420098, 0.84009254, 0.81188193]),\n",
       " 'test_mae': array([0.67116495, 0.76125033, 0.67689428, 0.6292394 , 0.6702914 ,\n",
       "        0.52379523, 0.69124157, 0.71645619, 0.6779786 , 0.6731549 ]),\n",
       " 'fit_time': (0.06130790710449219,\n",
       "  0.05966663360595703,\n",
       "  0.059575557708740234,\n",
       "  0.05988192558288574,\n",
       "  0.05951094627380371,\n",
       "  0.05962514877319336,\n",
       "  0.06001162528991699,\n",
       "  0.059328317642211914,\n",
       "  0.05912041664123535,\n",
       "  0.05894875526428223),\n",
       " 'test_time': (0.0007846355438232422,\n",
       "  0.0007140636444091797,\n",
       "  0.0007264614105224609,\n",
       "  0.0007338523864746094,\n",
       "  0.0007176399230957031,\n",
       "  0.0007240772247314453,\n",
       "  0.0007252693176269531,\n",
       "  0.0007243156433105469,\n",
       "  0.0007128715515136719,\n",
       "  0.0007195472717285156)}"
      ]
     },
     "execution_count": 20,
     "metadata": {},
     "output_type": "execute_result"
    }
   ],
   "source": [
    "data = Dataset.load_from_df(ratings[['userId', 'movieId', 'rating']], reader)\n",
    "\n",
    "svd = SVD()\n",
    "\n",
    "# 10 kat çapraz doğrulama (cross-validation)\n",
    "cross_validate(svd, data, measures=['RMSE', 'MAE'], cv=10, verbose=True)"
   ]
  },
  {
   "cell_type": "markdown",
   "id": "ba9d79f5",
   "metadata": {
    "papermill": {
     "duration": 0.011441,
     "end_time": "2022-12-20T19:52:18.063085",
     "exception": false,
     "start_time": "2022-12-20T19:52:18.051644",
     "status": "completed"
    },
    "tags": []
   },
   "source": [
    "- Yaklaşık 0.86 'Kök Ortalama Kare Hatası (RMSE)' "
   ]
  },
  {
   "cell_type": "markdown",
   "id": "c0731814",
   "metadata": {
    "papermill": {
     "duration": 0.011578,
     "end_time": "2022-12-20T19:52:18.086893",
     "exception": false,
     "start_time": "2022-12-20T19:52:18.075315",
     "status": "completed"
    },
    "tags": []
   },
   "source": [
    "### Eğitim ve Tahmin"
   ]
  },
  {
   "cell_type": "code",
   "execution_count": 21,
   "id": "83deb146",
   "metadata": {
    "execution": {
     "iopub.execute_input": "2022-12-20T19:52:18.113789Z",
     "iopub.status.busy": "2022-12-20T19:52:18.113359Z",
     "iopub.status.idle": "2022-12-20T19:52:18.190260Z",
     "shell.execute_reply": "2022-12-20T19:52:18.189011Z"
    },
    "papermill": {
     "duration": 0.093855,
     "end_time": "2022-12-20T19:52:18.193119",
     "exception": false,
     "start_time": "2022-12-20T19:52:18.099264",
     "status": "completed"
    },
    "tags": []
   },
   "outputs": [
    {
     "data": {
      "text/plain": [
       "<surprise.prediction_algorithms.matrix_factorization.SVD at 0x7fa7e73bae90>"
      ]
     },
     "execution_count": 21,
     "metadata": {},
     "output_type": "execute_result"
    }
   ],
   "source": [
    "trainset = data.build_full_trainset()\n",
    "svd.fit(trainset)"
   ]
  },
  {
   "cell_type": "markdown",
   "id": "dd21a5cf",
   "metadata": {
    "papermill": {
     "duration": 0.011861,
     "end_time": "2022-12-20T19:52:18.217157",
     "exception": false,
     "start_time": "2022-12-20T19:52:18.205296",
     "status": "completed"
    },
    "tags": []
   },
   "source": [
    "- userId = 1 için verdiği puanlar;"
   ]
  },
  {
   "cell_type": "code",
   "execution_count": 22,
   "id": "7adb5a78",
   "metadata": {
    "execution": {
     "iopub.execute_input": "2022-12-20T19:52:18.242639Z",
     "iopub.status.busy": "2022-12-20T19:52:18.242247Z",
     "iopub.status.idle": "2022-12-20T19:52:18.259172Z",
     "shell.execute_reply": "2022-12-20T19:52:18.257993Z"
    },
    "papermill": {
     "duration": 0.032869,
     "end_time": "2022-12-20T19:52:18.261759",
     "exception": false,
     "start_time": "2022-12-20T19:52:18.228890",
     "status": "completed"
    },
    "tags": []
   },
   "outputs": [
    {
     "data": {
      "text/html": [
       "<div>\n",
       "<style scoped>\n",
       "    .dataframe tbody tr th:only-of-type {\n",
       "        vertical-align: middle;\n",
       "    }\n",
       "\n",
       "    .dataframe tbody tr th {\n",
       "        vertical-align: top;\n",
       "    }\n",
       "\n",
       "    .dataframe thead th {\n",
       "        text-align: right;\n",
       "    }\n",
       "</style>\n",
       "<table border=\"1\" class=\"dataframe\">\n",
       "  <thead>\n",
       "    <tr style=\"text-align: right;\">\n",
       "      <th></th>\n",
       "      <th>userId</th>\n",
       "      <th>movieId</th>\n",
       "      <th>rating</th>\n",
       "      <th>timestamp</th>\n",
       "    </tr>\n",
       "  </thead>\n",
       "  <tbody>\n",
       "    <tr>\n",
       "      <th>0</th>\n",
       "      <td>1</td>\n",
       "      <td>2</td>\n",
       "      <td>3.5</td>\n",
       "      <td>2005-04-02 23:53:47</td>\n",
       "    </tr>\n",
       "    <tr>\n",
       "      <th>1</th>\n",
       "      <td>1</td>\n",
       "      <td>29</td>\n",
       "      <td>3.5</td>\n",
       "      <td>2005-04-02 23:31:16</td>\n",
       "    </tr>\n",
       "    <tr>\n",
       "      <th>2</th>\n",
       "      <td>1</td>\n",
       "      <td>32</td>\n",
       "      <td>3.5</td>\n",
       "      <td>2005-04-02 23:33:39</td>\n",
       "    </tr>\n",
       "    <tr>\n",
       "      <th>3</th>\n",
       "      <td>1</td>\n",
       "      <td>47</td>\n",
       "      <td>3.5</td>\n",
       "      <td>2005-04-02 23:32:07</td>\n",
       "    </tr>\n",
       "    <tr>\n",
       "      <th>4</th>\n",
       "      <td>1</td>\n",
       "      <td>50</td>\n",
       "      <td>3.5</td>\n",
       "      <td>2005-04-02 23:29:40</td>\n",
       "    </tr>\n",
       "    <tr>\n",
       "      <th>...</th>\n",
       "      <td>...</td>\n",
       "      <td>...</td>\n",
       "      <td>...</td>\n",
       "      <td>...</td>\n",
       "    </tr>\n",
       "    <tr>\n",
       "      <th>170</th>\n",
       "      <td>1</td>\n",
       "      <td>8507</td>\n",
       "      <td>5.0</td>\n",
       "      <td>2004-09-10 03:13:47</td>\n",
       "    </tr>\n",
       "    <tr>\n",
       "      <th>171</th>\n",
       "      <td>1</td>\n",
       "      <td>8636</td>\n",
       "      <td>4.5</td>\n",
       "      <td>2005-04-02 23:44:53</td>\n",
       "    </tr>\n",
       "    <tr>\n",
       "      <th>172</th>\n",
       "      <td>1</td>\n",
       "      <td>8690</td>\n",
       "      <td>3.5</td>\n",
       "      <td>2005-04-02 23:33:15</td>\n",
       "    </tr>\n",
       "    <tr>\n",
       "      <th>173</th>\n",
       "      <td>1</td>\n",
       "      <td>8961</td>\n",
       "      <td>4.0</td>\n",
       "      <td>2005-04-02 23:47:09</td>\n",
       "    </tr>\n",
       "    <tr>\n",
       "      <th>174</th>\n",
       "      <td>1</td>\n",
       "      <td>31696</td>\n",
       "      <td>4.0</td>\n",
       "      <td>2005-04-02 23:49:08</td>\n",
       "    </tr>\n",
       "  </tbody>\n",
       "</table>\n",
       "<p>175 rows × 4 columns</p>\n",
       "</div>"
      ],
      "text/plain": [
       "     userId  movieId  rating            timestamp\n",
       "0         1        2     3.5  2005-04-02 23:53:47\n",
       "1         1       29     3.5  2005-04-02 23:31:16\n",
       "2         1       32     3.5  2005-04-02 23:33:39\n",
       "3         1       47     3.5  2005-04-02 23:32:07\n",
       "4         1       50     3.5  2005-04-02 23:29:40\n",
       "..      ...      ...     ...                  ...\n",
       "170       1     8507     5.0  2004-09-10 03:13:47\n",
       "171       1     8636     4.5  2005-04-02 23:44:53\n",
       "172       1     8690     3.5  2005-04-02 23:33:15\n",
       "173       1     8961     4.0  2005-04-02 23:47:09\n",
       "174       1    31696     4.0  2005-04-02 23:49:08\n",
       "\n",
       "[175 rows x 4 columns]"
      ]
     },
     "execution_count": 22,
     "metadata": {},
     "output_type": "execute_result"
    }
   ],
   "source": [
    "ratings[ratings['userId'] == 1]"
   ]
  },
  {
   "cell_type": "markdown",
   "id": "a60109dd",
   "metadata": {
    "papermill": {
     "duration": 0.011605,
     "end_time": "2022-12-20T19:52:18.285470",
     "exception": false,
     "start_time": "2022-12-20T19:52:18.273865",
     "status": "completed"
    },
    "tags": []
   },
   "source": [
    "#### Tahmin;"
   ]
  },
  {
   "cell_type": "code",
   "execution_count": 23,
   "id": "4c212e0c",
   "metadata": {
    "execution": {
     "iopub.execute_input": "2022-12-20T19:52:18.311200Z",
     "iopub.status.busy": "2022-12-20T19:52:18.310096Z",
     "iopub.status.idle": "2022-12-20T19:52:18.316344Z",
     "shell.execute_reply": "2022-12-20T19:52:18.315396Z"
    },
    "papermill": {
     "duration": 0.021208,
     "end_time": "2022-12-20T19:52:18.318363",
     "exception": false,
     "start_time": "2022-12-20T19:52:18.297155",
     "status": "completed"
    },
    "tags": []
   },
   "outputs": [
    {
     "data": {
      "text/plain": [
       "Prediction(uid=1, iid=300, r_ui=3, est=3.7300430417133774, details={'was_impossible': False})"
      ]
     },
     "execution_count": 23,
     "metadata": {},
     "output_type": "execute_result"
    }
   ],
   "source": [
    "svd.predict(1, 300, 3)"
   ]
  },
  {
   "cell_type": "code",
   "execution_count": 24,
   "id": "9929e9e2",
   "metadata": {
    "execution": {
     "iopub.execute_input": "2022-12-20T19:52:18.344828Z",
     "iopub.status.busy": "2022-12-20T19:52:18.343662Z",
     "iopub.status.idle": "2022-12-20T19:52:18.350315Z",
     "shell.execute_reply": "2022-12-20T19:52:18.349171Z"
    },
    "papermill": {
     "duration": 0.022233,
     "end_time": "2022-12-20T19:52:18.352439",
     "exception": false,
     "start_time": "2022-12-20T19:52:18.330206",
     "status": "completed"
    },
    "tags": []
   },
   "outputs": [
    {
     "data": {
      "text/plain": [
       "Prediction(uid=1, iid=500, r_ui=3, est=4.006787355741468, details={'was_impossible': False})"
      ]
     },
     "execution_count": 24,
     "metadata": {},
     "output_type": "execute_result"
    }
   ],
   "source": [
    "svd.predict(1, 500, 3)"
   ]
  },
  {
   "cell_type": "code",
   "execution_count": 25,
   "id": "aaae53b1",
   "metadata": {
    "execution": {
     "iopub.execute_input": "2022-12-20T19:52:18.380099Z",
     "iopub.status.busy": "2022-12-20T19:52:18.379112Z",
     "iopub.status.idle": "2022-12-20T19:52:18.386538Z",
     "shell.execute_reply": "2022-12-20T19:52:18.385522Z"
    },
    "papermill": {
     "duration": 0.023207,
     "end_time": "2022-12-20T19:52:18.388751",
     "exception": false,
     "start_time": "2022-12-20T19:52:18.365544",
     "status": "completed"
    },
    "tags": []
   },
   "outputs": [
    {
     "data": {
      "text/plain": [
       "Prediction(uid=1, iid=480, r_ui=3, est=4.152236607384151, details={'was_impossible': False})"
      ]
     },
     "execution_count": 25,
     "metadata": {},
     "output_type": "execute_result"
    }
   ],
   "source": [
    "svd.predict(1, 480, 3)"
   ]
  },
  {
   "cell_type": "markdown",
   "id": "45629e3f",
   "metadata": {
    "papermill": {
     "duration": 0.011893,
     "end_time": "2022-12-20T19:52:18.412968",
     "exception": false,
     "start_time": "2022-12-20T19:52:18.401075",
     "status": "completed"
    },
    "tags": []
   },
   "source": [
    "- Kimliği 300 olan film için tahmini olarak 3.736 tahmini alıyoruz. \n",
    "- Kimliği 500 olan film için tahmini olarak 3.932 tahmini alıyoruz. \n",
    "- Kimliği 480 olan film için tahmini olarak 4.017 tahmini alıyoruz. \n",
    "\n",
    "\n",
    "- Bu tavsiye sistemi, filmin ne olduğu (veya ne içerdiği) ile ilgilenmemektedir. Yalnızca atanmış bir film kimliği temelinde çalışır ve diğer kullanıcıların filmi nasıl tahmin ettiğine bağlı olarak derecelendirmeleri tahmin etmeye çalışır."
   ]
  }
 ],
 "metadata": {
  "kernelspec": {
   "display_name": "Python 3",
   "language": "python",
   "name": "python3"
  },
  "language_info": {
   "codemirror_mode": {
    "name": "ipython",
    "version": 3
   },
   "file_extension": ".py",
   "mimetype": "text/x-python",
   "name": "python",
   "nbconvert_exporter": "python",
   "pygments_lexer": "ipython3",
   "version": "3.7.12"
  },
  "papermill": {
   "default_parameters": {},
   "duration": 38.655346,
   "end_time": "2022-12-20T19:52:19.547854",
   "environment_variables": {},
   "exception": null,
   "input_path": "__notebook__.ipynb",
   "output_path": "__notebook__.ipynb",
   "parameters": {},
   "start_time": "2022-12-20T19:51:40.892508",
   "version": "2.3.4"
  }
 },
 "nbformat": 4,
 "nbformat_minor": 5
}
